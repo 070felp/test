{
 "cells": [
  {
   "cell_type": "markdown",
   "id": "6d2c9208-3cfc-4b3f-8f8d-1e2c8b66ee08",
   "metadata": {},
   "source": [
    "## Regresión Lineal en Python"
   ]
  },
  {
   "cell_type": "code",
   "execution_count": 1,
   "id": "84d916e6-baaa-4409-9848-9226812bfd86",
   "metadata": {},
   "outputs": [],
   "source": [
    "import numpy as np\n",
    "from matplotlib import pyplot as plt"
   ]
  },
  {
   "cell_type": "markdown",
   "id": "ad18b58b-b258-4c88-836f-51ac51a5a74b",
   "metadata": {},
   "source": [
    "Ingresamos los datos"
   ]
  },
  {
   "cell_type": "code",
   "execution_count": 2,
   "id": "cacd13a2-0048-40a5-bfe9-4dda979d1a68",
   "metadata": {},
   "outputs": [
    {
     "name": "stdin",
     "output_type": "stream",
     "text": [
      "Digite el numero de elementos de x,y  9\n"
     ]
    },
    {
     "name": "stdout",
     "output_type": "stream",
     "text": [
      "Elementos de X\n"
     ]
    },
    {
     "name": "stdin",
     "output_type": "stream",
     "text": [
      "Elemento [1]:  2\n",
      "Elemento [2]:  4\n",
      "Elemento [3]:  5\n",
      "Elemento [4]:  8\n",
      "Elemento [5]:  9\n",
      "Elemento [6]:  11\n",
      "Elemento [7]:  14\n",
      "Elemento [8]:  17\n",
      "Elemento [9]:  21\n"
     ]
    },
    {
     "name": "stdout",
     "output_type": "stream",
     "text": [
      "Elementos de Y\n"
     ]
    },
    {
     "name": "stdin",
     "output_type": "stream",
     "text": [
      "Elemento [1]:  30\n",
      "Elemento [2]:  28\n",
      "Elemento [3]:  24\n",
      "Elemento [4]:  22\n",
      "Elemento [5]:  32\n",
      "Elemento [6]:  20\n",
      "Elemento [7]:  23\n",
      "Elemento [8]:  14\n",
      "Elemento [9]:  10\n"
     ]
    }
   ],
   "source": [
    "f=int(input(\"Digite el numero de elementos de x,y \"))\n",
    "f1=f\n",
    "x=np.zeros((f,1)).reshape(f,1)\n",
    "y=np.zeros((f,1)).reshape(f,1)\n",
    "print(\"Elementos de X\")\n",
    "for i in range(0,f):\n",
    "    x[i]=input(\"Elemento [\"+str(i+1)+\"]: \")\n",
    "print(\"Elementos de Y\")\n",
    "for i in range(0,f):\n",
    "    y[i]=input(\"Elemento [\"+str(i+1)+\"]: \")"
   ]
  },
  {
   "cell_type": "markdown",
   "id": "fb21b546-cbf4-46eb-a414-d0d51587739a",
   "metadata": {},
   "source": [
    "Creamos Z con su Transpuesta y digitamos el nivel del polinomio "
   ]
  },
  {
   "cell_type": "code",
   "execution_count": 3,
   "id": "ea8cd035-93b9-406e-b6f2-e7c3a2acb0dd",
   "metadata": {},
   "outputs": [
    {
     "name": "stdin",
     "output_type": "stream",
     "text": [
      "N  2\n"
     ]
    }
   ],
   "source": [
    "z1=np.repeat(1,f).reshape(f,1)\n",
    "c=int(input(\"N \"))\n",
    "z=np.zeros((f,c+1))\n",
    "for i in range(0,f):\n",
    "    for j in range(0,c+1): \n",
    "            z[i,j] = x[i]**j\n",
    "zt=z.transpose()"
   ]
  },
  {
   "cell_type": "markdown",
   "id": "11977c37-1636-4d88-93e3-9323ec7a7758",
   "metadata": {},
   "source": [
    "Calculamos \n",
    "\\begin{gather*}\n",
    "w=Z^t*Z\n",
    "\\end{gather*}"
   ]
  },
  {
   "cell_type": "code",
   "execution_count": 4,
   "id": "0a0b2955-cec0-47cd-b890-6cd6cbc87542",
   "metadata": {},
   "outputs": [],
   "source": [
    "w=np.zeros((zt.shape[0],z.shape[1]))\n",
    "for i in range(0,zt.shape[0]):\n",
    "    for j in range(0,z.shape[1]):\n",
    "        for k in range(0,z.shape[0]):\n",
    "            w[i,j]+=zt[i,k]*z[k,j]"
   ]
  },
  {
   "cell_type": "markdown",
   "id": "058ba530-1950-475b-8e6b-f5dbb3ec4880",
   "metadata": {},
   "source": [
    "Calculamos \n",
    "\\begin{gather*}\n",
    "s=Z^t*y\n",
    "\\end{gather*}"
   ]
  },
  {
   "cell_type": "code",
   "execution_count": 5,
   "id": "6568a294-4441-4ed2-b57b-b3d338b4610f",
   "metadata": {},
   "outputs": [],
   "source": [
    "s=np.zeros((zt.shape[0],y.shape[1]))\n",
    "for i in range(0,zt.shape[0]):\n",
    "    for j in range(0,y.shape[1]):\n",
    "        for k in range(0,y.shape[0]):\n",
    "            s[i,j]+=zt[i,k]*y[k,j]"
   ]
  },
  {
   "cell_type": "markdown",
   "id": "e3511491-80c2-471e-95f1-afa4f2136624",
   "metadata": {},
   "source": [
    "Para hallar las respuestas\n",
    "\\begin{gather*}\n",
    "r=w^{-1}*s\n",
    "\\end{gather*}"
   ]
  },
  {
   "cell_type": "code",
   "execution_count": 7,
   "id": "fc9c962f-c667-438c-b8da-209c212e9b32",
   "metadata": {},
   "outputs": [
    {
     "data": {
      "text/plain": [
       "array([[28.6112931 ],\n",
       "       [-0.04625371],\n",
       "       [-0.04065687]])"
      ]
     },
     "execution_count": 7,
     "metadata": {},
     "output_type": "execute_result"
    }
   ],
   "source": [
    "wI=np.linalg.inv(w)\n",
    "r=np.zeros((wI.shape[0],s.shape[1]))\n",
    "for i in range(0,wI.shape[0]):\n",
    "    for j in range(0,s.shape[1]):\n",
    "        for k in range(0,s.shape[0]):\n",
    "            r[i,j]+=wI[i,k]*s[k,j]\n",
    "r"
   ]
  },
  {
   "cell_type": "markdown",
   "id": "893caaf3-54d4-4db7-a9db-2d6eddd787e3",
   "metadata": {},
   "source": [
    "Hallamos el ypred"
   ]
  },
  {
   "cell_type": "code",
   "execution_count": 8,
   "id": "6ef39cb2-f353-4ab5-922f-5750f4733d41",
   "metadata": {},
   "outputs": [
    {
     "data": {
      "text/plain": [
       "array([[28.35615819],\n",
       "       [27.77576831],\n",
       "       [27.36360275],\n",
       "       [25.63922363],\n",
       "       [24.9018031 ],\n",
       "       [23.18302081],\n",
       "       [19.99499431],\n",
       "       [16.07514412],\n",
       "       [ 9.71028478]])"
      ]
     },
     "execution_count": 8,
     "metadata": {},
     "output_type": "execute_result"
    }
   ],
   "source": [
    "ypred=np.zeros((f,1))\n",
    "for i in range(0,f):\n",
    "    for j in range(0,r.shape[0]):\n",
    "       ypred[i]+=r[j]*x[i]**j\n",
    "ypred"
   ]
  },
  {
   "cell_type": "markdown",
   "id": "881f76ab-195d-4aa0-96e9-a02d693184a2",
   "metadata": {},
   "source": [
    "Calculamos la sumatoria del $error^2$\n",
    "\\begin{gather*}\n",
    "\\sum error^2=(y-ypred)^2\n",
    "\\end{gather*}"
   ]
  },
  {
   "cell_type": "code",
   "execution_count": 9,
   "id": "e78ed7d0-be5c-4bb3-bbb0-d0cd75174573",
   "metadata": {},
   "outputs": [],
   "source": [
    "error=np.zeros((f,1))\n",
    "for i in range(0,f):\n",
    "    error[i]=(y[i]-ypred[i])**2\n",
    "sume=sum(error)"
   ]
  },
  {
   "cell_type": "markdown",
   "id": "ab8de564-8076-4607-9e0b-cb2fc1dc1840",
   "metadata": {},
   "source": [
    "Encontramos la sumatoria del $(y-prome(y))^2$\n",
    "\\begin{gather*}\n",
    "\\sum (y-promw(y))^2\n",
    "\\end{gather*}\n"
   ]
  },
  {
   "cell_type": "code",
   "execution_count": 10,
   "id": "d1cf1a93-2603-4fc5-9d88-c15bc5c4eff8",
   "metadata": {},
   "outputs": [],
   "source": [
    "promey=np.zeros((f,1))\n",
    "for i in range(0,f):\n",
    "    promey[i]=(y[i]-y.mean())**2\n",
    "sump=sum(promey)"
   ]
  },
  {
   "cell_type": "markdown",
   "id": "83cafa97-74da-4e9d-af73-f0151a262760",
   "metadata": {},
   "source": [
    "Para finalizar calculamos $R^2$, para ver que tan confiable es el polinomio\n",
    "\\begin{gather*}\n",
    "R^2=1-\\frac{\\sum error^2}{\\sum (y-promw(y))^2}\n",
    "\\end{gather*}\n"
   ]
  },
  {
   "cell_type": "code",
   "execution_count": 13,
   "id": "38b9b940-52f5-4f1b-b0c8-de6c939aac4c",
   "metadata": {},
   "outputs": [
    {
     "data": {
      "text/plain": [
       "0.755574422720616"
      ]
     },
     "execution_count": 13,
     "metadata": {},
     "output_type": "execute_result"
    }
   ],
   "source": [
    "R=1-(sume/sump)\n",
    "R[0]"
   ]
  },
  {
   "cell_type": "markdown",
   "id": "4f84249a-45f8-43db-be47-ff0c2f141164",
   "metadata": {},
   "source": [
    "## Gráfica"
   ]
  },
  {
   "cell_type": "code",
   "execution_count": 15,
   "id": "2da43a6b-f274-482b-9e36-4c760399cbd3",
   "metadata": {},
   "outputs": [
    {
     "data": {
      "image/png": "[encoded data removed]",
      "text/plain": [
       "<Figure size 640x480 with 1 Axes>"
      ]
     },
     "metadata": {},
     "output_type": "display_data"
    }
   ],
   "source": [
    "plt.scatter(x,y,color=\"blue\")\n",
    "plt.plot(x,ypred,color=\"orange\")\n",
    "plt.scatter(x,ypred,color=\"orange\")\n",
    "plt.xlabel(\"X\")\n",
    "plt.ylabel(\"Y\")\n",
    "plt.title(\"Regresión\")\n",
    "plt.show()"
   ]
  }
 ],
 "metadata": {
  "kernelspec": {
   "display_name": "Python 3 (ipykernel)",
   "language": "python",
   "name": "python3"
  },
  "language_info": {
   "codemirror_mode": {
    "name": "ipython",
    "version": 3
   },
   "file_extension": ".py",
   "mimetype": "text/x-python",
   "name": "python",
   "nbconvert_exporter": "python",
   "pygments_lexer": "ipython3",
   "version": "3.10.6"
  }
 },
 "nbformat": 4,
 "nbformat_minor": 5
}
